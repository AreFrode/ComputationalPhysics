{
 "cells": [
  {
   "cell_type": "markdown",
   "metadata": {},
   "source": [
    "<!-- dom:TITLE: Computational Physics Lectures: Random walks, Brownian motion and the Metropolis algorithm -->\n",
    "# Computational Physics Lectures: Random walks, Brownian motion and the Metropolis algorithm\n",
    "<!-- dom:AUTHOR: Morten Hjorth-Jensen at Department of Physics, University of Oslo & Department of Physics and Astronomy and National Superconducting Cyclotron Laboratory, Michigan State University -->\n",
    "<!-- Author: -->  \n",
    "**Morten Hjorth-Jensen**, Department of Physics, University of Oslo and Department of Physics and Astronomy and National Superconducting Cyclotron Laboratory, Michigan State University\n",
    "\n",
    "Date: **Aug 23, 2017**\n",
    "\n",
    "Copyright 1999-2017, Morten Hjorth-Jensen. Released under CC Attribution-NonCommercial 4.0 license\n",
    "\n",
    "\n",
    "\n",
    "\n",
    "## Why Markov chains, Brownian motion and the Metropolis algorithm\n",
    "\n",
    "We want to study a physical system which evolves towards equilibrium, from som given  initial conditions.\n",
    "Recall the simple example of particles in a box. At an initial time $t_0$ all particles are in the left half of the box. Thereafter they are allowed to diffuse into the two halves of the box."
   ]
  },
  {
   "cell_type": "code",
   "execution_count": 1,
   "metadata": {
    "collapsed": false
   },
   "outputs": [
    {
     "data": {
      "image/png": "[encoded data removed]",
      "text/plain": [
       "<matplotlib.figure.Figure at 0x106e9d9b0>"
      ]
     },
     "metadata": {},
     "output_type": "display_data"
    }
   ],
   "source": [
    "%matplotlib inline\n",
    "\n",
    "#!/usr/bin/env python\n",
    "from  matplotlib import pyplot as plt\n",
    "from math import exp\n",
    "import numpy as np\n",
    "import random\n",
    "\n",
    "# initial number of particles\n",
    "N0 = 1000\n",
    "MaxTime = 10*N0\n",
    "values = np.zeros(MaxTime)\n",
    "time = np.zeros(MaxTime)\n",
    "random.seed()\n",
    "# initial number of particles in left half\n",
    "nleft = N0\n",
    "for t in range (0, MaxTime, 1):\n",
    "    if N0*random.random() <= nleft:\n",
    "       nleft -= 1\n",
    "    else:\n",
    "       nleft += 1\n",
    "    time[t] = t\n",
    "    values[t] = nleft\n",
    "\n",
    "# Finally we plot the results\n",
    "plt.plot(time, values,'b-')\n",
    "plt.axis([0,MaxTime, N0/4, N0])\n",
    "plt.xlabel('$t$')\n",
    "plt.ylabel('$N$')\n",
    "plt.title('Number of particles in left half')\n",
    "plt.savefig('box.pdf')\n",
    "plt.show()"
   ]
  },
  {
   "cell_type": "markdown",
   "metadata": {},
   "source": [
    "## Why Markov chains, Brownian motion and the Metropolis algorithm\n",
    "\n",
    "* We want to study a physical system which evolves towards equilibrium, from given  initial conditions.\n",
    "\n",
    "* We start with a PDF $w(x_0,t_0)$  and we want to understand how the system evolves with time.\n",
    "\n",
    "* We want to reach a situation where after a given number of time steps we obtain a steady state. This means that the system reaches its most likely state (equilibrium situation)\n",
    "\n",
    "* Our PDF is normally a multidimensional object whose normalization constant is impossible to find.\n",
    "\n",
    "* Analytical calculations from $w(x,t)$ are not possible.\n",
    "\n",
    "* To sample directly from from $w(x,t)$ is not possible/difficult.\n",
    "\n",
    "* The transition probability $W$ is also not  known.\n",
    "\n",
    "* How can we establish that we have reached a steady state?   Sounds impossible!\n",
    "\n",
    "**Use Markov chain Monte Carlo**\n",
    "\n",
    "<!-- !split  -->\n",
    "## Brownian motion and Markov processes\n",
    "A Markov process is a random walk with a selected probability for making a\n",
    "move. The new move is independent of the previous history of the system.\n",
    "\n",
    "The Markov process is used repeatedly in Monte Carlo simulations in order to generate\n",
    "new random states.\n",
    "\n",
    "The reason for choosing a Markov process is that when it is run for a\n",
    "long enough time starting with a random state, we will eventually reach the most likely state of the system.\n",
    "\n",
    "In thermodynamics, this means that after a certain number of Markov processes\n",
    "we reach an equilibrium distribution.\n",
    "\n",
    "This mimicks the way a real system reaches\n",
    "its most likely state at a given temperature of the surroundings.\n",
    "\n",
    "<!-- !split  -->\n",
    "## Brownian motion and Markov processes, Ergodicity and Detailed balance\n",
    "\n",
    "To reach this distribution, the Markov process needs to obey two important conditions, that of\n",
    "**ergodicity** and **detailed balance**. These conditions impose then constraints on our algorithms\n",
    "for accepting or rejecting new random states.\n",
    "\n",
    "\n",
    "The Metropolis algorithm discussed here\n",
    "abides to both these constraints.\n",
    "\n",
    "The Metropolis algorithm is widely used in Monte Carlo\n",
    "simulations and the understanding of it rests within\n",
    "the interpretation of random walks and Markov processes.\n",
    "\n",
    "<!-- !split  -->\n",
    "## Brownian motion and Markov processes, jargon\n",
    "\n",
    "In a random walk one defines a mathematical entity called a **walker**, \n",
    "whose  attributes\n",
    "completely define the state of the system in question. \n",
    "\n",
    "The state of the system  can refer to any physical quantities,\n",
    "from the vibrational state of a molecule specified by a set of quantum numbers, \n",
    "to the brands of coffee in your favourite supermarket.\n",
    "\n",
    "\n",
    "The walker moves in an appropriate state space by a combination of \n",
    "deterministic and random displacements from its previous\n",
    "position.\n",
    "\n",
    "This sequence of steps forms a **chain**.\n",
    "\n",
    "<!-- !split  -->\n",
    "## Brownian motion and Markov processes, sequence of ingredients\n",
    "\n",
    "* We want to study a physical system which evolves towards equilibrium, from given  initial conditions.\n",
    "\n",
    "* Markov chains are intimately linked with the physical process of diffusion. \n",
    "\n",
    "* From a Markov chain we can then derive the conditions for detailed balance and ergodicity. These are the conditions needed for obtaining a steady state.\n",
    "\n",
    "* The widely used algorithm for doing this is the so-called Metropolis algorithm, in its refined form the Metropolis-Hastings algorithm.\n",
    "\n",
    "## Applications: almost every field in science\n",
    "\n",
    "* Financial engineering, see for example Patriarca *et al*, Physica **340**, [page 334 (2004)](http://www.sciencedirect.com/science/article/pii/S0378437104004327).\n",
    "\n",
    "* Neuroscience, see for example Lipinski, Physics Medical Biology **35**, [page 441 (1990)](http://iopscience.iop.org/article/10.1088/0031-9155/35/3/012/meta;jsessionid=FA91B191036E1F10948F7C42B6A6D295.c1) or Farnell and Gibson, Journal of Computational Physics **208**, [page 253 (2005)](http://www.sciencedirect.com/science/article/pii/S0021999105001087)\n",
    "\n",
    "* Tons of applications in physics\n",
    "\n",
    "* and chemistry\n",
    "\n",
    "* and biology, medicine\n",
    "\n",
    "* Nobel prize in economy to Black and Scholes"
   ]
  },
  {
   "cell_type": "markdown",
   "metadata": {},
   "source": [
    "$$\n",
    "\\frac{\\partial V}{\\partial t}+\\frac{1}{2}\\sigma^{2}S^{2}\\frac{\\partial^{2} V}{\\partial S^{2}}+rS\\frac{\\partial V}{\\partial S}-rV=0.\n",
    "$$"
   ]
  },
  {
   "cell_type": "markdown",
   "metadata": {},
   "source": [
    "The Black and Scholes equation is a partial differential equation, which describes the price\n",
    "of the option over time. It is a diffusion equation with a random term.\n",
    "\n",
    "The list of applications is endless\n",
    "\n",
    "## A simple example (close to project 4) and some more jargon\n",
    "\n",
    "The obvious case is that of a random walker on a one-, or two- or three-dimensional lattice\n",
    "(dubbed coordinate space hereafter).\n",
    "\n",
    "Consider a system whose energy is defined by the orientation of single spins.\n",
    "Consider the state $i$, with given energy $E_i$ represented by the following $N$ spins"
   ]
  },
  {
   "cell_type": "markdown",
   "metadata": {},
   "source": [
    "$$\n",
    "\\begin{array}{cccccccccc}\n",
    "\\uparrow&\\uparrow&\\uparrow&\\dots&\\uparrow&\\downarrow&\\uparrow&\\dots&\\uparrow&\\downarrow\\\\\n",
    "1&2&3&\\dots& k-1&k&k+1&\\dots&N-1&N\\end{array}\n",
    "$$"
   ]
  },
  {
   "cell_type": "markdown",
   "metadata": {},
   "source": [
    "We may be  interested in the transition with one single  spinflip to a new state $j$ with energy $E_j$"
   ]
  },
  {
   "cell_type": "markdown",
   "metadata": {},
   "source": [
    "$$\n",
    "\\begin{array}{cccccccccc}\n",
    "\\uparrow&\\uparrow&\\uparrow&\\dots&\\uparrow&\\uparrow&\\uparrow&\\dots&\\uparrow&\\downarrow\\\\\n",
    "1&2&3&\\dots& k-1&k&k+1&\\dots&N-1&N\\end{array}\n",
    "$$"
   ]
  },
  {
   "cell_type": "markdown",
   "metadata": {},
   "source": [
    "This change from one microstate $i$ (or spin configuration)  to another microstate $j$ is the\n",
    "**configuration space**  analogue to a random walk on a lattice. Instead of jumping from\n",
    "one place to another in space, we 'jump' from one microstate to another.\n",
    "\n",
    "## Markov processes\n",
    "A Markov process allows in principle for a microscopic description of Brownian motion.\n",
    "As with the random walk studied in the previous section, we consider a particle \n",
    "which moves along the  $x$-axis in the form of a series of jumps with step length \n",
    "$\\Delta x = l$. Time and space are discretized and the subsequent moves are\n",
    "statistically independent, i.e., the new move depends only on the previous step\n",
    "and not on the results from earlier trials. \n",
    "We start at a position $x=jl=j\\Delta x$ and move to \n",
    "a new position $x =i\\Delta x$ during a step $\\Delta t=\\epsilon$, where \n",
    "$i\\ge  0$ and $j\\ge 0$ are integers. \n",
    "The original probability distribution function (PDF) of the particles is given by  \n",
    "$w_i(t=0)$ where $i$ refers to a specific position on the grid in\n",
    "\n",
    "\n",
    "The function $w_i(t=0)$ is now the discretized version of $w(x,t)$.\n",
    "We can regard the discretized PDF as a vector.\n",
    "\n",
    "## Markov processes\n",
    "For the Markov process we have a transition probability from a position\n",
    "$x=jl$ to a position $x=il$ given by"
   ]
  },
  {
   "cell_type": "markdown",
   "metadata": {},
   "source": [
    "$$\n",
    "W_{ij}(\\epsilon)=W(il-jl,\\epsilon)=\\left\\{\\begin{array}{cc}\\frac{1}{2} & |i-j| = 1\\\\\n",
    "             0 & \\mathrm{else} \\end{array} \\right. ,\n",
    "$$"
   ]
  },
  {
   "cell_type": "markdown",
   "metadata": {},
   "source": [
    "where $W_{ij}$ is normally called \n",
    "the transition probability and we can represent it, see below,\n",
    "as a matrix. \n",
    "**Here we have specialized to a case where the transition probability is known**.\n",
    "\n",
    "Our new PDF $w_i(t=\\epsilon)$ is now related to the PDF at\n",
    "$t=0$ through the relation"
   ]
  },
  {
   "cell_type": "markdown",
   "metadata": {},
   "source": [
    "$$\n",
    "w_i(t=\\epsilon) =\\sum_{j} W(j\\rightarrow i)w_j(t=0).\n",
    "$$"
   ]
  },
  {
   "cell_type": "markdown",
   "metadata": {},
   "source": [
    "This equation represents the discretized time-development of an original \n",
    "PDF with equal probability of jumping left or right.\n",
    "\n",
    "\n",
    "\n",
    "## Markov processes, the probabilities\n",
    "\n",
    "Since both $W$ and $w$ represent probabilities, they have to be normalized, i.e., we require\n",
    "that at each time step we have"
   ]
  },
  {
   "cell_type": "markdown",
   "metadata": {},
   "source": [
    "$$\n",
    "\\sum_i w_i(t) = 1,\n",
    "$$"
   ]
  },
  {
   "cell_type": "markdown",
   "metadata": {},
   "source": [
    "and"
   ]
  },
  {
   "cell_type": "markdown",
   "metadata": {},
   "source": [
    "$$\n",
    "\\sum_j W(j\\rightarrow i) = 1,\n",
    "$$"
   ]
  },
  {
   "cell_type": "markdown",
   "metadata": {},
   "source": [
    "which applies for all $j$-values.\n",
    "The further constraints are\n",
    "$0 \\le W_{ij} \\le 1$  and  $0 \\le w_{j} \\le 1$.\n",
    "Note that the probability for remaining at the same place is in general \n",
    "not necessarily equal zero.\n",
    "\n",
    "\n",
    "\n",
    "## Markov processes\n",
    "The time development of our initial PDF can now be represented through the action of\n",
    "the transition probability matrix applied $n$ times. At a \n",
    "time  $t_n=n\\epsilon$ our initial distribution has developed into"
   ]
  },
  {
   "cell_type": "markdown",
   "metadata": {},
   "source": [
    "$$\n",
    "w_i(t_n) = \\sum_jW_{ij}(t_n)w_j(0),\n",
    "$$"
   ]
  },
  {
   "cell_type": "markdown",
   "metadata": {},
   "source": [
    "and defining"
   ]
  },
  {
   "cell_type": "markdown",
   "metadata": {},
   "source": [
    "$$\n",
    "W(il-jl,n\\epsilon)=(W^n(\\epsilon))_{ij}\n",
    "$$"
   ]
  },
  {
   "cell_type": "markdown",
   "metadata": {},
   "source": [
    "we obtain"
   ]
  },
  {
   "cell_type": "markdown",
   "metadata": {},
   "source": [
    "$$\n",
    "w_i(n\\epsilon) = \\sum_j(W^n(\\epsilon))_{ij}w_j(0),\n",
    "$$"
   ]
  },
  {
   "cell_type": "markdown",
   "metadata": {},
   "source": [
    "or in matrix form"
   ]
  },
  {
   "cell_type": "markdown",
   "metadata": {},
   "source": [
    "<!-- Equation labels as ordinary links -->\n",
    "<div id=\"eq:wfinal\"></div>\n",
    "\n",
    "$$\n",
    "\\begin{equation} \\label{eq:wfinal} \\tag{1}\n",
    "   \\hat{w}(n\\epsilon) = \\hat{W}^n(\\epsilon)\\hat{w}(0).\n",
    "\\end{equation}\n",
    "$$"
   ]
  },
  {
   "cell_type": "markdown",
   "metadata": {},
   "source": [
    "## An Illustrative Example\n",
    "\n",
    "The following simple example may help in understanding the meaning of \n",
    "the transition matrix $\\hat{W}$ and the vector $\\hat{w}$.\n",
    "Consider the $4\\times 4$ matrix $\\hat{W}$"
   ]
  },
  {
   "cell_type": "markdown",
   "metadata": {},
   "source": [
    "$$\n",
    "\\hat{W} = \\left(\\begin{array}{cccc} 1/4 & 1/9 & 3/8 & 1/3 \\\\                   \n",
    "                                       2/4 & 2/9 & 0 & 1/3\\\\                   \n",
    "                                       0   & 1/9 & 3/8 & 0\\\\\n",
    "                                       1/4 & 5/9&  2/8 & 1/3 \\end{array} \\right),\n",
    "$$"
   ]
  },
  {
   "cell_type": "markdown",
   "metadata": {},
   "source": [
    "and we choose our initial state as"
   ]
  },
  {
   "cell_type": "markdown",
   "metadata": {},
   "source": [
    "$$\n",
    "\\hat{w}(t=0)=  \\left(\\begin{array}{c} 1\\\\                   \n",
    "                                 0\\\\\n",
    "                                 0 \\\\                   \n",
    "                                 0 \\end{array} \\right).\n",
    "$$"
   ]
  },
  {
   "cell_type": "markdown",
   "metadata": {},
   "source": [
    "## An Illustrative Example\n",
    "We note that both the vector and the matrix are properly normalized. Summing the vector elements gives one and\n",
    "summing over columns for the matrix results also in one.  Furthermore, the largest eigenvalue is one.\n",
    "We act then on $\\hat{w}$ with $\\hat{W}$.\n",
    "The first iteration is"
   ]
  },
  {
   "cell_type": "markdown",
   "metadata": {},
   "source": [
    "$$\n",
    "\\hat{w}(t=\\epsilon) = \\hat{W}\\hat{w}(t=0),\n",
    "$$"
   ]
  },
  {
   "cell_type": "markdown",
   "metadata": {},
   "source": [
    "resulting in"
   ]
  },
  {
   "cell_type": "markdown",
   "metadata": {},
   "source": [
    "$$\n",
    "\\hat{w}(t=\\epsilon)=  \\left(\\begin{array}{c} 1/4\\\\                   \n",
    "                                1/2 \\\\\n",
    "                                0 \\\\                   \n",
    "                                1/4 \\end{array} \\right).\n",
    "$$"
   ]
  },
  {
   "cell_type": "markdown",
   "metadata": {},
   "source": [
    "## An Illustrative Example, next step\n",
    "\n",
    "The next iteration results in"
   ]
  },
  {
   "cell_type": "markdown",
   "metadata": {},
   "source": [
    "$$\n",
    "\\hat{w}(t=2\\epsilon) = \\hat{W}\\hat{w}(t=\\epsilon),\n",
    "$$"
   ]
  },
  {
   "cell_type": "markdown",
   "metadata": {},
   "source": [
    "resulting in"
   ]
  },
  {
   "cell_type": "markdown",
   "metadata": {},
   "source": [
    "$$\n",
    "\\hat{w}(t=2\\epsilon)=  \\left(\\begin{array}{c} 0.201389\\\\\n",
    "   0.319444 \\\\\n",
    "   0.055556 \\\\\n",
    "   0.423611 \\end{array} \\right).\n",
    "$$"
   ]
  },
  {
   "cell_type": "markdown",
   "metadata": {},
   "source": [
    "Note that the vector $\\hat{w}$ is always normalized to $1$.\n",
    "\n",
    "\n",
    "## An Illustrative Example, the steady state\n",
    "We find the steady state of the system by solving the set of equations"
   ]
  },
  {
   "cell_type": "markdown",
   "metadata": {},
   "source": [
    "$$\n",
    "w(t=\\infty) = Ww(t=\\infty),\n",
    "$$"
   ]
  },
  {
   "cell_type": "markdown",
   "metadata": {},
   "source": [
    "which is an eigenvalue problem with eigenvalue equal to **one**!\n",
    "This set of equations reads"
   ]
  },
  {
   "cell_type": "markdown",
   "metadata": {},
   "source": [
    "$$\n",
    "W_{11}w_1(t=\\infty) +W_{12}w_2(t=\\infty) +W_{13}w_3(t=\\infty)+ W_{14}w_4(t=\\infty)=w_1(t=\\infty) \\nonumber\n",
    "$$"
   ]
  },
  {
   "cell_type": "markdown",
   "metadata": {},
   "source": [
    "$$\n",
    "W_{21}w_1(t=\\infty) + W_{22}w_2(t=\\infty) + W_{23}w_3(t=\\infty)+ W_{24}w_4(t=\\infty)=w_2(t=\\infty) \\nonumber\n",
    "$$"
   ]
  },
  {
   "cell_type": "markdown",
   "metadata": {},
   "source": [
    "$$\n",
    "W_{31}w_1(t=\\infty) + W_{32}w_2(t=\\infty) + W_{33}w_3(t=\\infty)+ W_{34}w_4(t=\\infty)=w_3(t=\\infty) \\nonumber\n",
    "$$"
   ]
  },
  {
   "cell_type": "markdown",
   "metadata": {},
   "source": [
    "$$\n",
    "W_{41}w_1(t=\\infty) + W_{42}w_2(t=\\infty) + W_{43}w_3(t=\\infty)+ W_{44}w_4(t=\\infty)=w_4(t=\\infty) \\nonumber\n",
    "$$"
   ]
  },
  {
   "cell_type": "markdown",
   "metadata": {},
   "source": [
    "<!-- Equation labels as ordinary links -->\n",
    "<div id=\"_auto1\"></div>\n",
    "\n",
    "$$\n",
    "\\begin{equation} \n",
    "\\label{_auto1} \\tag{2}\n",
    "\\end{equation}\n",
    "$$"
   ]
  },
  {
   "cell_type": "markdown",
   "metadata": {},
   "source": [
    "with the constraint that"
   ]
  },
  {
   "cell_type": "markdown",
   "metadata": {},
   "source": [
    "$$\n",
    "\\sum_i w_i(t=\\infty) = 1,\n",
    "$$"
   ]
  },
  {
   "cell_type": "markdown",
   "metadata": {},
   "source": [
    "yielding as solution"
   ]
  },
  {
   "cell_type": "markdown",
   "metadata": {},
   "source": [
    "$$\n",
    "\\hat{w}(t=\\infty)=  \\left(\\begin{array}{c}0.244318 \\\\                   \n",
    "                                 0.319602 \\\\  0.056818 \\\\  0.379261 \\end{array} \\right).\n",
    "$$"
   ]
  },
  {
   "cell_type": "markdown",
   "metadata": {},
   "source": [
    "## An Illustrative Example, iterative steps\n",
    "\n",
    "The table here  demonstrates the convergence as a function of the number of iterations or\n",
    "time steps. After  twelve iterations we have reached the exact value with six leading digits. \n",
    "\n",
    "<table border=\"1\">\n",
    "<thead>\n",
    "<tr><th align=\"center\">     Iteration     </th> <th align=\"center\"> $w_1$  </th> <th align=\"center\"> $w_2$  </th> <th align=\"center\"> $w_3$  </th> <th align=\"center\"> $w_4$  </th> </tr>\n",
    "</thead>\n",
    "<tbody>\n",
    "<tr><td align=\"right\">   0                      </td> <td align=\"left\">   1.000000    </td> <td align=\"left\">   0.000000    </td> <td align=\"left\">   0.000000    </td> <td align=\"left\">   0.000000    </td> </tr>\n",
    "<tr><td align=\"right\">   1                      </td> <td align=\"left\">   0.250000    </td> <td align=\"left\">   0.500000    </td> <td align=\"left\">   0.000000    </td> <td align=\"left\">   0.250000    </td> </tr>\n",
    "<tr><td align=\"right\">   2                      </td> <td align=\"left\">   0.201389    </td> <td align=\"left\">   0.319444    </td> <td align=\"left\">   0.055556    </td> <td align=\"left\">   0.423611    </td> </tr>\n",
    "<tr><td align=\"right\">   3                      </td> <td align=\"left\">   0.247878    </td> <td align=\"left\">   0.312886    </td> <td align=\"left\">   0.056327    </td> <td align=\"left\">   0.382909    </td> </tr>\n",
    "<tr><td align=\"right\">   4                      </td> <td align=\"left\">   0.245494    </td> <td align=\"left\">   0.321106    </td> <td align=\"left\">   0.055888    </td> <td align=\"left\">   0.377513    </td> </tr>\n",
    "<tr><td align=\"right\">   5                      </td> <td align=\"left\">   0.243847    </td> <td align=\"left\">   0.319941    </td> <td align=\"left\">   0.056636    </td> <td align=\"left\">   0.379575    </td> </tr>\n",
    "<tr><td align=\"right\">   6                      </td> <td align=\"left\">   0.244274    </td> <td align=\"left\">   0.319547    </td> <td align=\"left\">   0.056788    </td> <td align=\"left\">   0.379391    </td> </tr>\n",
    "<tr><td align=\"right\">   7                      </td> <td align=\"left\">   0.244333    </td> <td align=\"left\">   0.319611    </td> <td align=\"left\">   0.056801    </td> <td align=\"left\">   0.379255    </td> </tr>\n",
    "<tr><td align=\"right\">   8                      </td> <td align=\"left\">   0.244314    </td> <td align=\"left\">   0.319610    </td> <td align=\"left\">   0.056813    </td> <td align=\"left\">   0.379264    </td> </tr>\n",
    "<tr><td align=\"right\">   9                      </td> <td align=\"left\">   0.244317    </td> <td align=\"left\">   0.319603    </td> <td align=\"left\">   0.056817    </td> <td align=\"left\">   0.379264    </td> </tr>\n",
    "<tr><td align=\"right\">   10                     </td> <td align=\"left\">   0.244318    </td> <td align=\"left\">   0.319602    </td> <td align=\"left\">   0.056818    </td> <td align=\"left\">   0.379262    </td> </tr>\n",
    "<tr><td align=\"right\">   11                     </td> <td align=\"left\">   0.244318    </td> <td align=\"left\">   0.319602    </td> <td align=\"left\">   0.056818    </td> <td align=\"left\">   0.379261    </td> </tr>\n",
    "<tr><td align=\"right\">   12                     </td> <td align=\"left\">   0.244318    </td> <td align=\"left\">   0.319602    </td> <td align=\"left\">   0.056818    </td> <td align=\"left\">   0.379261    </td> </tr>\n",
    "<tr><td align=\"right\">   $\\hat{w}(t=\\infty)$    </td> <td align=\"left\">   0.244318    </td> <td align=\"left\">   0.319602    </td> <td align=\"left\">   0.056818    </td> <td align=\"left\">   0.379261    </td> </tr>\n",
    "</tbody>\n",
    "</table>\n",
    "\n",
    "\n",
    "\n",
    "## An Illustrative Example, what does it mean?\n",
    "\n",
    "We have after $t$-steps"
   ]
  },
  {
   "cell_type": "markdown",
   "metadata": {},
   "source": [
    "$$\n",
    "\\hat{w}(t) = \\hat{W}^t\\hat{w}(0),\n",
    "$$"
   ]
  },
  {
   "cell_type": "markdown",
   "metadata": {},
   "source": [
    "with $\\hat{w}(0)$ the distribution at $t=0$ and $\\hat{W}$ representing the \n",
    "transition probability matrix.\n",
    "\n",
    "\n",
    "\n",
    "## An Illustrative Example, understanding the basics\n",
    "\n",
    "We can always expand $\\hat{w}(0)$ in terms of the right eigenvectors \n",
    "$\\hat{v}$ of $\\hat{W}$ as"
   ]
  },
  {
   "cell_type": "markdown",
   "metadata": {},
   "source": [
    "$$\n",
    "\\hat{w}(0)  = \\sum_i\\alpha_i\\hat{v}_i,\n",
    "$$"
   ]
  },
  {
   "cell_type": "markdown",
   "metadata": {},
   "source": [
    "resulting in"
   ]
  },
  {
   "cell_type": "markdown",
   "metadata": {},
   "source": [
    "$$\n",
    "\\hat{w}(t) = \\hat{W}^t\\hat{w}(0)=\\hat{W}^t\\sum_i\\alpha_i\\hat{v}_i=\n",
    "\\sum_i\\lambda_i^t\\alpha_i\\hat{v}_i,\n",
    "$$"
   ]
  },
  {
   "cell_type": "markdown",
   "metadata": {},
   "source": [
    "with $\\lambda_i$ the $i^{\\mathrm{th}}$ eigenvalue corresponding to  \n",
    "the eigenvector $\\hat{v}_i$. \n",
    "\n",
    "If we assume that $\\lambda_0$ is the largest eigenvector we see that in the limit $t\\rightarrow \\infty$,\n",
    "$\\hat{w}(t)$ becomes proportional to the corresponding eigenvector \n",
    "$\\hat{v}_0$. This is our steady state or final distribution.\n",
    "\n",
    "\n",
    "\n",
    "## Simple c++ program to perform the above calculations\n",
    "The c++ program we have included here (using Armadillo) performs the above operations\n",
    "for, in this case, a $5\\times 5$ matrix. The largest eigenvalue is $1$."
   ]
  },
  {
   "cell_type": "markdown",
   "metadata": {},
   "source": [
    "        #include <iostream>\n",
    "        #include \"armadillo\"\n",
    "        using namespace arma;\n",
    "        using namespace std;\n",
    "        \n",
    "        int main()\n",
    "        {\n",
    "          int dim = 5;\n",
    "          mat W = zeros<mat>(dim,dim);\n",
    "          vec wold = zeros<mat>(dim);\n",
    "          vec wnew = zeros<mat>(dim);\n",
    "          vec eigenvector = zeros<mat>(dim);\n",
    "          // Initializing the first vector\n",
    "          wold(0) = 1.0;\n",
    "          // Setting up the stochastic matrix W\n",
    "          W(0,0) = 0.; W(0,1) = 0.; W(0,2) = 0.25; W(0,3) = 0.0;   W(0,4) = 0.;   \n",
    "          W(1,0) = 0.; W(1,1) = 0.; W(1,2) = 0.25; W(1,3) = 0.; W(1,4) = 0.0;     \n",
    "          W(2,0) = 0.5; W(2,1) = 1.0; W(2,2) = 0.; W(2,3) = 0.5; W(2,4) = 0.;       \n",
    "          W(3,0) = 0.0; W(3,1) = 0.; W(3,2) = 0.25; W(3,3) = 0.;  W(3,4) = 0.;      \n",
    "          W(4,0) = 0.5; W(4,1) = 0.; W(4,2) = 0.25; W(4,3) = 0.5;  W(4,4) = 1.0;      \n",
    "          double eps = 1.0E-10;\n",
    "          W.print(\"W =\");\n",
    "          double difference  = norm(wold-wnew, 2);\n",
    "          int count = 0; \n",
    "          do{\n",
    "            // Multiplying the old vector with the transition probability\n",
    "            count += 1; \n",
    "            wnew = W*wold;\n",
    "            difference  = norm(wold-wnew, 2);\n",
    "            wold = wnew;\n",
    "            cout << \"Iteration number = \" << count << endl;\n",
    "            wnew.print(\"New vector =\");\n",
    "          } while(difference > eps);\n",
    "        \n",
    "          // Getting the eigenvectors and eigenvalues of the stochastic matrix\n",
    "          cx_vec eigval;\n",
    "          eig_gen(eigval, W);\n",
    "          eigval.print(\"Eigenvalues=\");\n",
    "          return 0;\n",
    "        }\n"
   ]
  },
  {
   "cell_type": "markdown",
   "metadata": {},
   "source": [
    "## Entropy and the most likely state"
   ]
  },
  {
   "cell_type": "code",
   "execution_count": 2,
   "metadata": {
    "collapsed": false
   },
   "outputs": [],
   "source": [
    "# 1D-randomwalk: A walker makes several steps,\n",
    "# with a given number of walks pr. trial.\n",
    "# It computes the entropy by filling in bins with counts\n",
    "\n",
    "import numpy, sys, math\n",
    "\n",
    "def mc_trial(number_walks,move_probability,walk_cum,walk2_cum, probability):\n",
    "    \"\"\"\n",
    "    Do a MonteCarlo trial, that is,\n",
    "    random-walk one particle.\n",
    "\n",
    "    Input:\n",
    "    - number_walks:     Number of steps to walk the particle\n",
    "    - move_probability: Probability that the particle\n",
    "                        will step right when doing a step\n",
    "    - walk_cum:         Numpy-array of length number_walks + 1,\n",
    "                        containing the sum of the position\n",
    "                        of the particles as a function of time\n",
    "                        (usefull to calculate mean pos. as a function\n",
    "                        of time)\n",
    "    - walk2_cum:        Same as walk_cum, but with the sum of the\n",
    "                        positions squared\n",
    "    - probability:      Number of times each gridpoint is hit\n",
    "\n",
    "    Output: As walk_cum, walk2_cum, and probability are (pointers to)\n",
    "    numpy arrays, they are altered also in the calling function.\n",
    "    \"\"\"\n",
    "    #Initial pos. As walk_cum[0]=walk2_cum[0] = 0.0\n",
    "    #by initialization, it is uneccessary to add this step to\n",
    "    #the arrays...\n",
    "    pos = 0;\n",
    "    \n",
    "    for walk in xrange(number_walks+1):\n",
    "        if numpy.random.random() <= move_probability:\n",
    "            pos += 1\n",
    "        else:\n",
    "            pos -= 1\n",
    "        walk_cum[walk]   += pos\n",
    "        walk2_cum[walk]  += pos**2\n",
    "        #Zero-position of the array is the leftmost\n",
    "        #end of the grid\n",
    "        probability[pos+number_walks] += 1\n",
    "\n",
    "def mc_sample(length,trials, number_walks, move_probability):\n",
    "    \"\"\"\n",
    "    Generate the probability distribution for finding\n",
    "    a walker at a gridpoint, after a number of walks on a\n",
    "    1d lattice with wrap-around boundary conditions\n",
    "\n",
    "    Input:\n",
    "    - length: Lattice-points away from x=0\n",
    "    - trials: Number of MonteCarlo trials (number of walkers)\n",
    "    - move_probability: Probability of moving right\n",
    "\n",
    "    Output:\n",
    "    Normalized probability of finding a walker on a\n",
    "    specific grid position\n",
    "    \"\"\"\n",
    "\n",
    "    #Grid position of every walker\n",
    "    x = numpy.zeros(trials,numpy.int)\n",
    "\n",
    "    #Loop over timesteps and walkers,\n",
    "    #and find the walkers \"ending positions\"\n",
    "    for t in xrange(number_walks):\n",
    "        for i in xrange(trials):\n",
    "            if numpy.random.random() <= move_probability:\n",
    "                x[i] += 1\n",
    "                #Wraparound?\n",
    "                if x[i] > length:\n",
    "                    x[i] = -length\n",
    "            else:\n",
    "                x[i] -= 1\n",
    "                if x[i] < -length:\n",
    "                    x[i] = +length\n",
    "    \n",
    "    #Calculate the probability of finding a walker\n",
    "    #each grid-position\n",
    "    probability = numpy.zeros(2*length+1)\n",
    "    for i in xrange(len(probability)):\n",
    "        pos = i-length\n",
    "        #count number of occurences of this pos i x array\n",
    "        count = 0\n",
    "        for j in xrange(len(x)):\n",
    "            if x[j] == pos:\n",
    "                count += 1\n",
    "        #Normalize and save\n",
    "        probability[i] = count/float(trials)\n",
    "    return probability\n",
    "\n",
    "#Main program\n",
    "\n",
    "length               =   10\n",
    "trials               =   100000\n",
    "number_walks         =   100\n",
    "move_probability     =  0.5\n",
    "\n",
    "#Do the MC\n",
    "probability = mc_sample(length,trials,number_walks,move_probability);\n",
    "\n",
    "#Not reliable: ln(0)\n",
    "#entropy = - numpy.sum(probability*numpy.log(probability))\n",
    "\n",
    "entropy = 0.0\n",
    "for i in xrange(len(probability)):\n",
    "    if probability[i] > 0.0:\n",
    "        entropy -= probability[i]*math.log(probability[i])\n",
    "\n",
    "print \"Timesteps             =\",number_walks\n",
    "print \"Walkers (num. trials) =\",trials\n",
    "print \"Entropy               =\",entropy\n",
    "print\n",
    "if len(probability) <= 101:\n",
    "    print \"Probability distribution (Flat => high entropy):\"\n",
    "    print probability\n",
    "else:\n",
    "    print \"Probability distribution to big to print\""
   ]
  },
  {
   "cell_type": "markdown",
   "metadata": {},
   "source": [
    "## The Metropolis Algorithm and Detailed Balance\n",
    "\n",
    "Let us recapitulate some of our results about Markov chains and random walks.\n",
    "\n",
    "  * The time development of our PDF $w(t)$, after \n",
    "\n",
    "one time-step from $t=0$ is given by"
   ]
  },
  {
   "cell_type": "markdown",
   "metadata": {},
   "source": [
    "$$\n",
    "w_i(t=\\epsilon) = W(j\\rightarrow i)w_j(t=0).\n",
    "$$"
   ]
  },
  {
   "cell_type": "markdown",
   "metadata": {},
   "source": [
    "This equation represents the discretized time-development of an original \n",
    "PDF.  We can rewrite this as a"
   ]
  },
  {
   "cell_type": "markdown",
   "metadata": {},
   "source": [
    "$$\n",
    "w_i(t=\\epsilon) = W_{ij}w_j(t=0).\n",
    "$$"
   ]
  },
  {
   "cell_type": "markdown",
   "metadata": {},
   "source": [
    "with the transition matrix $W$ for a random walk given by"
   ]
  },
  {
   "cell_type": "markdown",
   "metadata": {},
   "source": [
    "$$\n",
    "W_{ij}(\\epsilon)=W(il-jl,\\epsilon)=\\left\\{\\begin{array}{cc}\\frac{1}{2} & |i-j| = 1\\\\\n",
    "                                             0 & \\mathrm{else} \\end{array} \\right.\n",
    "$$"
   ]
  },
  {
   "cell_type": "markdown",
   "metadata": {},
   "source": [
    "## The Metropolis Algorithm and Detailed Balance\n",
    "\n",
    "We call $W_{ij}$ for the transition probability and we represent it\n",
    "as a matrix. \n",
    "  * Both  $W$ and $w$ represent probabilities and they have to be normalized, meaning that at each time step we have"
   ]
  },
  {
   "cell_type": "markdown",
   "metadata": {},
   "source": [
    "$$\n",
    "\\sum_i w_i(t) = 1,\n",
    "$$"
   ]
  },
  {
   "cell_type": "markdown",
   "metadata": {},
   "source": [
    "and"
   ]
  },
  {
   "cell_type": "markdown",
   "metadata": {},
   "source": [
    "$$\n",
    "\\sum_j W(j\\rightarrow i) = 1.\n",
    "$$"
   ]
  },
  {
   "cell_type": "markdown",
   "metadata": {},
   "source": [
    "Here we have written the previous matrix $W_{ij}=W(j\\rightarrow i)$.\n",
    "\n",
    "\n",
    "\n",
    "## The Metropolis Algorithm and Detailed Balance\n",
    "\n",
    "The further constraints are\n",
    "$0 \\le W_{ij} \\le 1$  and  $0 \\le w_{j} \\le 1$.\n",
    "  * We can thus write the action of $W$ as"
   ]
  },
  {
   "cell_type": "markdown",
   "metadata": {},
   "source": [
    "$$\n",
    "w_i(t+1) = \\sum_jW_{ij}w_j(t),\n",
    "$$"
   ]
  },
  {
   "cell_type": "markdown",
   "metadata": {},
   "source": [
    "or as vector-matrix relation"
   ]
  },
  {
   "cell_type": "markdown",
   "metadata": {},
   "source": [
    "$$\n",
    "\\hat{w}(t+1) = \\hat{W\\hat{w}}(t),\n",
    "$$"
   ]
  },
  {
   "cell_type": "markdown",
   "metadata": {},
   "source": [
    "and if we have that $||\\hat{w}(t+1)-\\hat{w}(t)||\\rightarrow 0$, we say that \n",
    "we have reached the most likely state of the system, the so-called steady state or equilibrium state.\n",
    "\n",
    "\n",
    "\n",
    "## The Metropolis Algorithm and Detailed Balance\n",
    "\n",
    "Another way of phrasing this is"
   ]
  },
  {
   "cell_type": "markdown",
   "metadata": {},
   "source": [
    "<!-- Equation labels as ordinary links -->\n",
    "<div id=\"_auto2\"></div>\n",
    "\n",
    "$$\n",
    "\\begin{equation} \n",
    "w(t=\\infty) = Ww(t=\\infty). \n",
    "\\label{_auto2} \\tag{3}\n",
    "\\end{equation}\n",
    "$$"
   ]
  },
  {
   "cell_type": "markdown",
   "metadata": {},
   "source": [
    "## The Metropolis Algorithm and Detailed Balance\n",
    "\n",
    "The question then is how can we model anything under such a severe lack of knowledge? The Metropolis algorithm comes to our rescue here. Since $W(j\\rightarrow i)$ is unknown, we model it as the product of two probabilities, \n",
    "a probability for accepting the proposed move from the state $j$ to the state $j$, and a probability for making the transition to the state $i$ being in the state $j$. We label these probabilities $A(j\\rightarrow i)$ and $T(j\\rightarrow i)$, respectively.  Our total transition probability is then"
   ]
  },
  {
   "cell_type": "markdown",
   "metadata": {},
   "source": [
    "$$\n",
    "W(j\\rightarrow i)=T(j\\rightarrow i)A(j\\rightarrow i).\n",
    "$$"
   ]
  },
  {
   "cell_type": "markdown",
   "metadata": {},
   "source": [
    "The algorithm can then be expressed as\n",
    "\n",
    "  * We make a suggested move to the new state $i$ with some transition or moving probability $T_{j\\rightarrow i}$.\n",
    "\n",
    "  * We accept this move to the new state with an acceptance probability $A_{j \\rightarrow i}$. The new state $i$ is in turn used as our new starting point for the next move.  We reject this proposed moved with a $1-A_{j\\rightarrow i}$ and the original state $j$ is used again as a sample.\n",
    "\n",
    "\n",
    "\n",
    "## The Metropolis Algorithm and Detailed Balance\n",
    "\n",
    "We wish to derive the required properties of the probabilities $T$ and $A$ such that\n",
    "$w_i^{(t\\rightarrow \\infty)} \\rightarrow w_i$, starting\n",
    "from any distribution, will lead us to the correct distribution.\n",
    "\n",
    "We can now derive the dynamical process towards \n",
    "equilibrium. To obtain this equation we note that after $t$ time steps the probability for being in a state $i$ is related \n",
    "to the probability of being in a state $j$ and performing a transition to the new state together with the probability of actually being in the state $i$ and making a move to any of the possible states $j$ from the previous time step.\n",
    "\n",
    "\n",
    "\n",
    "## The Metropolis Algorithm and Detailed Balance\n",
    "\n",
    "We can express this as, assuming that $T$ and $A$ are time-independent,"
   ]
  },
  {
   "cell_type": "markdown",
   "metadata": {},
   "source": [
    "$$\n",
    "w_i(t+1) = \\sum_j \\left [\n",
    "w_j(t)T_{j\\rightarrow i} A_{j\\rightarrow i} \n",
    "+w_i(t)T_{i\\rightarrow j}\\left ( 1- A_{i\\rightarrow j} \\right)\n",
    "\\right ] \\,.\n",
    "$$"
   ]
  },
  {
   "cell_type": "markdown",
   "metadata": {},
   "source": [
    "## The Metropolis Algorithm and Detailed Balance\n",
    "\n",
    "All probabilities are normalized, meaning that \n",
    "$\\sum_j T_{i\\rightarrow j} = 1$. Using the latter, we can rewrite the previous equation as"
   ]
  },
  {
   "cell_type": "markdown",
   "metadata": {},
   "source": [
    "$$\n",
    "w_i(t+1) = w_i(t) +\n",
    " \\sum_j \\left [\n",
    "w_j(t)T_{j\\rightarrow i} A_{j\\rightarrow i} \n",
    "-w_i(t)T_{i\\rightarrow j}A_{i\\rightarrow j}\\right ] \\,,\n",
    "$$"
   ]
  },
  {
   "cell_type": "markdown",
   "metadata": {},
   "source": [
    "which can be rewritten as"
   ]
  },
  {
   "cell_type": "markdown",
   "metadata": {},
   "source": [
    "$$\n",
    "w_i(t+1)-w_i(t) =  \\sum_j \\left [w_j(t)T_{j\\rightarrow i} A_{j\\rightarrow i} \n",
    "-w_i(t)T_{i\\rightarrow j}A_{i\\rightarrow j}\\right ] .\n",
    "$$"
   ]
  },
  {
   "cell_type": "markdown",
   "metadata": {},
   "source": [
    "## The Metropolis Algorithm and Detailed Balance\n",
    "\n",
    "The last equation is very similar to the so-called Master equation, which relates the temporal dependence of \n",
    "a PDF $w_i(t)$ to various transition rates. The equation can be derived from the so-called \n",
    "Chapman-Einstein-Enskog-Kolmogorov equation. The equation is given as"
   ]
  },
  {
   "cell_type": "markdown",
   "metadata": {},
   "source": [
    "<!-- Equation labels as ordinary links -->\n",
    "<div id=\"eq:masterequation\"></div>\n",
    "\n",
    "$$\n",
    "\\begin{equation}\n",
    "\\label{eq:masterequation} \\tag{4}\n",
    "\\frac{d w_i(t)}{dt} = \\sum_j\\left[ W(j\\rightarrow i)w_j-W(i\\rightarrow j)w_i\\right],\n",
    "\\end{equation}\n",
    "$$"
   ]
  },
  {
   "cell_type": "markdown",
   "metadata": {},
   "source": [
    "which simply states that the rate at which the systems moves from a state $j$\n",
    "to a final state $i$ (the first term on the right-hand side of the last equation) is balanced by the rate at which the system undergoes transitions from the state $i$ to a state $j$ (the second term). If we have reached the so-called steady state, then the temporal development is zero. This  means that in equilibrium we have"
   ]
  },
  {
   "cell_type": "markdown",
   "metadata": {},
   "source": [
    "$$\n",
    "\\frac{d w_i(t)}{dt} = 0.\n",
    "$$"
   ]
  },
  {
   "cell_type": "markdown",
   "metadata": {},
   "source": [
    "## The Metropolis Algorithm and Detailed Balance\n",
    "\n",
    "In the limit $t\\rightarrow \\infty$ we require that the  two distributions $w_i(t+1)=w_i$ and $w_i(t)=w_i$\n",
    "and we have"
   ]
  },
  {
   "cell_type": "markdown",
   "metadata": {},
   "source": [
    "$$\n",
    "\\sum_j w_jT_{j\\rightarrow i} A_{j\\rightarrow i}= \\sum_j w_iT_{i\\rightarrow j}A_{i\\rightarrow j},\n",
    "$$"
   ]
  },
  {
   "cell_type": "markdown",
   "metadata": {},
   "source": [
    "which is the condition for balance when the most likely state (or steady state) has been reached.\n",
    "We see also that the right-hand side  can be  rewritten as"
   ]
  },
  {
   "cell_type": "markdown",
   "metadata": {},
   "source": [
    "$$\n",
    "\\sum_j w_iT_{i\\rightarrow j}A_{i\\rightarrow j}= \\sum_j w_iW_{i\\rightarrow j},\n",
    "$$"
   ]
  },
  {
   "cell_type": "markdown",
   "metadata": {},
   "source": [
    "and using the property that $\\sum_j W_{i\\rightarrow j}=1$, we can rewrite our equation\n",
    "as"
   ]
  },
  {
   "cell_type": "markdown",
   "metadata": {},
   "source": [
    "$$\n",
    "w_i= \\sum_j w_jT_{j\\rightarrow i} A_{j\\rightarrow i}= \\sum_j w_j W_{j\\rightarrow i},\n",
    "$$"
   ]
  },
  {
   "cell_type": "markdown",
   "metadata": {},
   "source": [
    "which is nothing but the standard equation for a Markov chain when the steady state has been reached.\n",
    "\n",
    "\n",
    "\n",
    "## The Metropolis Algorithm and Detailed Balance\n",
    "\n",
    "However, the condition that the rates should equal each other is in general not sufficient\n",
    "to guarantee that we, after many simulations, generate the correct distribution.\n",
    "We may risk to end up with so-called cyclic solutions. To avoid this\n",
    "we therefore introduce an additional condition, namely that of detailed balance"
   ]
  },
  {
   "cell_type": "markdown",
   "metadata": {},
   "source": [
    "$$\n",
    "W(j\\rightarrow i)w_j= W(i\\rightarrow j)w_i.\n",
    "$$"
   ]
  },
  {
   "cell_type": "markdown",
   "metadata": {},
   "source": [
    "These equations were derived by Lars Onsager when studying irreversible processes.\n",
    "At equilibrium detailed balance gives thus"
   ]
  },
  {
   "cell_type": "markdown",
   "metadata": {},
   "source": [
    "$$\n",
    "\\frac{W(j\\rightarrow i)}{W(i\\rightarrow j)}=\\frac{w_i}{w_j}.\n",
    "$$"
   ]
  },
  {
   "cell_type": "markdown",
   "metadata": {},
   "source": [
    "Rewriting the last equation in terms of our transition probabilities $T$ and \n",
    "acceptance probobalities $A$ we obtain"
   ]
  },
  {
   "cell_type": "markdown",
   "metadata": {},
   "source": [
    "$$\n",
    "w_j(t)T_{j\\rightarrow i}A_{j\\rightarrow i}= w_i(t)T_{i\\rightarrow j}A_{i\\rightarrow j}.\n",
    "$$"
   ]
  },
  {
   "cell_type": "markdown",
   "metadata": {},
   "source": [
    "## The Metropolis Algorithm and Detailed Balance\n",
    "\n",
    "Since we normally have an expression \n",
    "for the probability distribution functions $w_i$,  we can rewrite the last equation as"
   ]
  },
  {
   "cell_type": "markdown",
   "metadata": {},
   "source": [
    "$$\n",
    "\\frac{T_{j\\rightarrow i}A_{j\\rightarrow i}}{T_{i\\rightarrow j}A_{i\\rightarrow j}}= \\frac{w_i}{w_j}.\n",
    "$$"
   ]
  },
  {
   "cell_type": "markdown",
   "metadata": {},
   "source": [
    "## The Metropolis Algorithm and Detailed Balance\n",
    "\n",
    "In statistical physics this condition ensures that it is e.g., the \n",
    "Boltzmann distribution which is generated when equilibrium is reached.\n",
    "\n",
    "We introduce  now the Boltzmann distribution"
   ]
  },
  {
   "cell_type": "markdown",
   "metadata": {},
   "source": [
    "$$\n",
    "w_i= \\frac{\\exp{(-\\beta(E_i))}}{Z},\n",
    "$$"
   ]
  },
  {
   "cell_type": "markdown",
   "metadata": {},
   "source": [
    "which states that the probability of finding the system in a state $i$ with energy $E_i$ \n",
    "at an inverse temperature $\\beta = 1/k_BT$ is $w_i\\propto \\exp{(-\\beta(E_i))}$.\n",
    "The denominator $Z$ is a normalization constant which ensures that the sum of all\n",
    "probabilities is normalized to one. It is defined as the sum of probabilities over all microstates\n",
    "$j$ of the system"
   ]
  },
  {
   "cell_type": "markdown",
   "metadata": {},
   "source": [
    "$$\n",
    "Z=\\sum_j \\exp{(-\\beta(E_i))}.\n",
    "$$"
   ]
  },
  {
   "cell_type": "markdown",
   "metadata": {},
   "source": [
    "## The Metropolis Algorithm and Detailed Balance\n",
    "\n",
    "From the partition function we can in principle generate all interesting quantities\n",
    "for a given system in equilibrium with its surroundings at a temperature $T$.\n",
    "\n",
    "With the probability distribution given by the Boltzmann distribution we are now in a position\n",
    "where we can generate expectation values for a given variable $A$ through the\n",
    "definition"
   ]
  },
  {
   "cell_type": "markdown",
   "metadata": {},
   "source": [
    "$$\n",
    "\\langle A \\rangle = \\sum_jA_jw_j=\n",
    "    \\frac{\\sum_jA_j\\exp{(-\\beta(E_j)}}{Z}.\n",
    "$$"
   ]
  },
  {
   "cell_type": "markdown",
   "metadata": {},
   "source": [
    "In general, most systems have an infinity of microstates making thereby the computation\n",
    "of $Z$ practically impossible and \n",
    "a brute force Monte Carlo calculation over a given number of randomly selected microstates\n",
    "may therefore not yield those microstates which are important \n",
    "at equilibrium. \n",
    "To select the most important contributions we need to  \n",
    "use the condition for detailed balance. Since this is just given by the ratios of probabilities,\n",
    "we never need to evaluate the partition function $Z$.\n",
    "\n",
    "\n",
    "\n",
    "## The Metropolis Algorithm and Detailed Balance\n",
    "\n",
    "For the \n",
    "Boltzmann distribution, detailed balance results in"
   ]
  },
  {
   "cell_type": "markdown",
   "metadata": {},
   "source": [
    "$$\n",
    "\\frac{w_i}{w_j}= \\exp{(-\\beta(E_i-E_j))}.\n",
    "$$"
   ]
  },
  {
   "cell_type": "markdown",
   "metadata": {},
   "source": [
    "Let us now specialize to a system whose energy is defined by the orientation of single spins.\n",
    "Consider the state $i$, with given energy $E_i$ represented by the following $N$ spins"
   ]
  },
  {
   "cell_type": "markdown",
   "metadata": {},
   "source": [
    "$$\n",
    "\\begin{array}{cccccccccc}\n",
    "\\uparrow&\\uparrow&\\uparrow&\\dots&\\uparrow&\\downarrow&\\uparrow&\\dots&\\uparrow&\\downarrow\\\\\n",
    "1&2&3&\\dots& k-1&k&k+1&\\dots&N-1&N\\end{array}\n",
    "$$"
   ]
  },
  {
   "cell_type": "markdown",
   "metadata": {},
   "source": [
    "## The Metropolis Algorithm and Detailed Balance\n",
    "\n",
    "We are interested in the transition with one single  spinflip to a new state $j$ with energy $E_j$"
   ]
  },
  {
   "cell_type": "markdown",
   "metadata": {},
   "source": [
    "$$\n",
    "\\begin{array}{cccccccccc}\n",
    "\\uparrow&\\uparrow&\\uparrow&\\dots&\\uparrow&\\uparrow&\\uparrow&\\dots&\\uparrow&\\downarrow\\\\\n",
    "1&2&3&\\dots& k-1&k&k+1&\\dots&N-1&N\\end{array}\n",
    "$$"
   ]
  },
  {
   "cell_type": "markdown",
   "metadata": {},
   "source": [
    "This change from one microstate $i$ (or spin configuration)  to another microstate $j$ is the\n",
    "configuration space analogue to a random walk on a lattice. Instead of jumping from \n",
    "one place to another in space, we 'jump' from one microstate to another.\n",
    "\n",
    "\n",
    "\n",
    "## The Metropolis Algorithm and Detailed Balance\n",
    "\n",
    "However, the selection of states has to generate a final distribution which is the\n",
    "Boltzmann distribution. This is again the same we saw for a random walker, for the discrete case we had \n",
    "always a binomial distribution, whereas for the continuous case we had a normal distribution.\n",
    "The way we sample configurations should result, when equilibrium is established, in the \n",
    "Boltzmann distribution. Else, our algorithm for selecting microstates is wrong.\n",
    "\n",
    "\n",
    "As stated above, we do in general not know the closed-form expression of the transition rate and we are free to model it as\n",
    "     $W(i\\rightarrow j)=T(i\\rightarrow j)A(i\\rightarrow j)$.\n",
    "Our ratio between probabilities gives us"
   ]
  },
  {
   "cell_type": "markdown",
   "metadata": {},
   "source": [
    "$$\n",
    "\\frac{A_{j\\rightarrow i}}{A_{i\\rightarrow j}}= \\frac{w_iT_{i\\rightarrow j}}{w_jT_{j\\rightarrow i}}.\n",
    "$$"
   ]
  },
  {
   "cell_type": "markdown",
   "metadata": {},
   "source": [
    "The simplest form of the Metropolis algorithm (sometimes called for brute force Metropolis) assumes that \n",
    "the transition probability $T(i\\rightarrow j)$ is symmetric, implying that $T(i\\rightarrow j)=T(j\\rightarrow i)$.\n",
    "\n",
    "\n",
    "\n",
    "## The Metropolis Algorithm and Detailed Balance\n",
    "\n",
    "We obtain then (using the Boltzmann distribution)"
   ]
  },
  {
   "cell_type": "markdown",
   "metadata": {},
   "source": [
    "$$\n",
    "\\frac{A(j\\rightarrow i)}{A(i\\rightarrow j)}= \\exp{(-\\beta(E_i-E_j))} .\n",
    "$$"
   ]
  },
  {
   "cell_type": "markdown",
   "metadata": {},
   "source": [
    "We are in this case interested in a new state $E_j$ whose energy is lower than \n",
    "$E_i$, viz., $\\Delta E = E_j-E_i \\le 0$. A simple test would then be to accept only those\n",
    "microstates which lower the energy.  \n",
    "Suppose we have ten microstates with energy $E_0 \\le E_1 \\le E_2 \\le E_3 \\le \\dots \\le E_9$.\n",
    "Our desired energy is $E_0$.\n",
    "\n",
    "\n",
    "\n",
    "## The Metropolis Algorithm and Detailed Balance\n",
    "\n",
    "At a given temperature $T$ we start our simulation by randomly choosing state\n",
    "$E_9$. Flipping spins we may then find a path from $E_9\\rightarrow E_8 \\rightarrow E_7 \\dots \\rightarrow E_1 \\rightarrow E_0$. \n",
    "This would however lead to biased statistical averages since it would violate the ergodic hypothesis discussed\n",
    "in the previous section. This principle states  that \n",
    "it should be possible for any Markov process to reach every possible state of the system\n",
    "from any starting point if the simulations is carried out for a long enough time.\n",
    "\n",
    "Any state in a Boltzmann distribution has a probability different from zero and if such \n",
    "a state cannot be reached from a given starting point, then the system is not ergodic.\n",
    "This means that another possible path to $E_0$ could be \n",
    "$E_9\\rightarrow E_7 \\rightarrow E_8 \\dots \\rightarrow E_9 \\rightarrow E_5 \\rightarrow E_0$ and so forth.\n",
    "Even though such a path could have a negligible probability it is still a possibility, and if\n",
    "we simulate long enough it should be included in our computation of an expectation value.\n",
    "\n",
    "\n",
    "\n",
    "## The Metropolis Algorithm and Detailed Balance\n",
    "\n",
    "Thus, we require that our algorithm should satisfy the principle of detailed balance and be ergodic. \n",
    "The problem with our ratio"
   ]
  },
  {
   "cell_type": "markdown",
   "metadata": {},
   "source": [
    "$$\n",
    "\\frac{A(j\\rightarrow i)}{A(i\\rightarrow j)}= \\exp{(-\\beta(E_i-E_j))},\n",
    "$$"
   ]
  },
  {
   "cell_type": "markdown",
   "metadata": {},
   "source": [
    "is that we do not know the acceptance probability. This equation only specifies the ratio of pairs of probabilities. Normally we want an algorithm which is as efficient as possible and maximizes the number of accepted moves. \n",
    "Moreover, we know that the acceptance probability has $0$ as its smallest value and $1$ as its largest. \n",
    "If we assume that the largest possible acceptance probability is $1$,  we adjust thereafter the other acceptance probability\n",
    "to this constraint.\n",
    "\n",
    "\n",
    "\n",
    "## The Metropolis Algorithm and Detailed Balance\n",
    "\n",
    "To understand this better, assume that we have two energies, $E_i$ and $E_j$, with $E_i < E_j$. This means that the largest acceptance value must be \n",
    "$A(j\\rightarrow i)$ since we move to a state with lower energy.  It follows from also from the fact that the probability $w_i$ is larger than $w_j$. \n",
    "The trick then is to fix this value to $A(j\\rightarrow i)=1$. It means that \n",
    "the other acceptance probability has to be"
   ]
  },
  {
   "cell_type": "markdown",
   "metadata": {},
   "source": [
    "$$\n",
    "A(i\\rightarrow j)= \\exp{(-\\beta(E_j-E_i))}.\n",
    "$$"
   ]
  },
  {
   "cell_type": "markdown",
   "metadata": {},
   "source": [
    "## The Metropolis Algorithm and Detailed Balance\n",
    "\n",
    "One possible way to encode this equation reads"
   ]
  },
  {
   "cell_type": "markdown",
   "metadata": {},
   "source": [
    "$$\n",
    "A(j\\rightarrow i)=\\left\\{\\begin{array}{cc}\n",
    "\\exp{(-\\beta(E_i-E_j))} & E_i-E_j > 0 \\\\ 1 & else \\end{array} \\right.,\n",
    "$$"
   ]
  },
  {
   "cell_type": "markdown",
   "metadata": {},
   "source": [
    "implying that if we move to a state with a lower energy, we always accept\n",
    "this move with acceptance probability $A(j\\rightarrow i)=1$. If the energy is higher, we need to check\n",
    "this acceptance probability with the ratio between the probabilities  from our PDF.  From a practical point of view, \n",
    "the above ratio is compared with a random number.\n",
    "If the ratio is smaller than a given random number we accept the move to a higher energy, else we stay in the same state.\n",
    "\n",
    "\n",
    "\n",
    "## The Metropolis Algorithm and Detailed Balance\n",
    "\n",
    "Nothing hinders us obviously in choosing another acceptance ratio, like a weighting  of the two energies via"
   ]
  },
  {
   "cell_type": "markdown",
   "metadata": {},
   "source": [
    "$$\n",
    "A(j\\rightarrow i)=\\exp{(-\\frac{1}{2}\\beta(E_i-E_j))}.\n",
    "$$"
   ]
  },
  {
   "cell_type": "markdown",
   "metadata": {},
   "source": [
    "However, it is easy to see that such an acceptance ratio would result in \n",
    "fewer accepted moves.\n",
    "\n",
    "\n",
    "\n",
    "## Brief Summary\n",
    "\n",
    "The Monte Carlo approach, combined with the theory for Markov chains can be summarized as follows:\n",
    "A Markov chain Monte Carlo method for the simulation of a distribution $w$ is any method producing an \n",
    "ergodic Markov chain of events $x$ whose stationary distribution is $w$. The Metropolis algorithm can be phrased as\n",
    "\n",
    "  * Generate an initial value $x^{(i)}$.\n",
    "\n",
    "  * Generate a trial value $y_t$ with probability $T(y_t|x^{(i)})$. The latter quantity represents the probability of generating $y_t$ given $x^{(i)}$.\n",
    "\n",
    "  * Take a new value"
   ]
  },
  {
   "cell_type": "markdown",
   "metadata": {},
   "source": [
    "$$\n",
    "x^{(i+1)}= \\left\\{\\begin{array}{cc} y_t & \\mathrm{with\\hspace{0.1cm}probability} = A(x^{(i)}\\rightarrow y_t) \\\\                                           x^{(i)}    & \\mathrm{with \\hspace{0.1cm}probability} = 1-A(x^{(i)}\\rightarrow y_t)\\end{array}\\right .\n",
    "$$"
   ]
  },
  {
   "cell_type": "markdown",
   "metadata": {},
   "source": [
    "* We have defined the transition (acceptance) probability as"
   ]
  },
  {
   "cell_type": "markdown",
   "metadata": {},
   "source": [
    "$$\n",
    "A(x\\rightarrow y)= \\mathrm{min}\\left\\{\\frac{w(y)T(x|y)}{w(x)T(y|x)},1\\right\\}.\n",
    "$$"
   ]
  },
  {
   "cell_type": "markdown",
   "metadata": {},
   "source": [
    "## Diffusion\n",
    "\n",
    "Diffusion and the diffusion equation are central topics in both Physics and Mathematics,\n",
    "and their ranges of applicability span from stellar dynamics to the diffusion \n",
    "of particles governed by Schroedinger's equation. The latter is, for a free particle, \n",
    "nothing but the diffusion equation in complex time!\n",
    "\n",
    "Let us consider the one-dimensional diffusion equation. We study a large ensemble of particles\n",
    "performing Brownian motion along the $x$-axis. There is no interaction between the particles.\n",
    "\n",
    "We define $w(x,t)dx$ as the probability of finding a given number of particles in an\n",
    "interval of length $dx$ in $x\\in [x, x+dx]$ at a time $t$. This quantity is our probability\n",
    "distribution function (PDF). \n",
    "\n",
    "## Diffusion Equation\n",
    "From experiment there are strong indications that the flux of particles $j(x,t)$, viz., the number of particles passing $x$ at a time $t$ is proportional to the \n",
    "gradient of $w(x,t)$. This proportionality is expressed mathematically through"
   ]
  },
  {
   "cell_type": "markdown",
   "metadata": {},
   "source": [
    "$$\n",
    "j(x,t) = -D\\frac{\\partial w(x,t)}{\\partial x},\n",
    "$$"
   ]
  },
  {
   "cell_type": "markdown",
   "metadata": {},
   "source": [
    "where $D$ is the so-called diffusion constant, with dimensionality length$^2$ per time.\n",
    "\n",
    "\n",
    "\n",
    "## Diffusion Equation, continuity equation\n",
    "\n",
    "If the number of particles is conserved, we have the continuity equation"
   ]
  },
  {
   "cell_type": "markdown",
   "metadata": {},
   "source": [
    "$$\n",
    "\\frac{\\partial j(x,t)}{\\partial x} = -\\frac{\\partial w(x,t)}{\\partial t},\n",
    "$$"
   ]
  },
  {
   "cell_type": "markdown",
   "metadata": {},
   "source": [
    "which leads to"
   ]
  },
  {
   "cell_type": "markdown",
   "metadata": {},
   "source": [
    "<!-- Equation labels as ordinary links -->\n",
    "<div id=\"eq:diffequation1\"></div>\n",
    "\n",
    "$$\n",
    "\\begin{equation} \\label{eq:diffequation1} \\tag{5}\n",
    "    \\frac{\\partial w(x,t)}{\\partial t} = \n",
    "    D\\frac{\\partial^2w(x,t)}{\\partial x^2},\n",
    "\\end{equation}\n",
    "$$"
   ]
  },
  {
   "cell_type": "markdown",
   "metadata": {},
   "source": [
    "which is the diffusion equation in one dimension.\n",
    "\n",
    "\n",
    "\n",
    "## Diffusion Equation, expectation values\n",
    "\n",
    "With the probability distribution function $w(x,t)dx$ we can evaluate expectation values such as  the mean distance"
   ]
  },
  {
   "cell_type": "markdown",
   "metadata": {},
   "source": [
    "$$\n",
    "\\langle x(t)\\rangle = \\int_{-\\infty}^{\\infty}xw(x,t)dx,\n",
    "$$"
   ]
  },
  {
   "cell_type": "markdown",
   "metadata": {},
   "source": [
    "or"
   ]
  },
  {
   "cell_type": "markdown",
   "metadata": {},
   "source": [
    "$$\n",
    "\\langle x^2(t)\\rangle = \\int_{-\\infty}^{\\infty}x^2w(x,t)dx,\n",
    "$$"
   ]
  },
  {
   "cell_type": "markdown",
   "metadata": {},
   "source": [
    "which allows for the computation of the variance\n",
    "$\\sigma^2=\\langle x^2(t)\\rangle-\\langle x(t)\\rangle^2$. Note well that \n",
    "these expectation values are time-dependent.\n",
    "\n",
    "\n",
    "\n",
    "\n",
    "## Diffusion Equation, other expectation values\n",
    "\n",
    "In a similar way we can also\n",
    "define expectation values of functions $f(x,t)$ as"
   ]
  },
  {
   "cell_type": "markdown",
   "metadata": {},
   "source": [
    "$$\n",
    "\\langle f(x,t)\\rangle = \\int_{-\\infty}^{\\infty}f(x,t)w(x,t)dx.\n",
    "$$"
   ]
  },
  {
   "cell_type": "markdown",
   "metadata": {},
   "source": [
    "The normalization condition"
   ]
  },
  {
   "cell_type": "markdown",
   "metadata": {},
   "source": [
    "$$\n",
    "\\int_{-\\infty}^{\\infty}w(x,t)dx=1\n",
    "$$"
   ]
  },
  {
   "cell_type": "markdown",
   "metadata": {},
   "source": [
    "imposes significant constraints on $w(x,t)$.\n",
    "\n",
    "\n",
    "\n",
    "## Diffusion Equation, normalization condition\n",
    "\n",
    "We have"
   ]
  },
  {
   "cell_type": "markdown",
   "metadata": {},
   "source": [
    "$$\n",
    "w(x=\\pm \\infty,t)=0 \\hspace{1cm} \n",
    "   \\frac{\\partial^{n}w(x,t)}{\\partial x^n}|_{x=\\pm\\infty} = 0,\n",
    "$$"
   ]
  },
  {
   "cell_type": "markdown",
   "metadata": {},
   "source": [
    "implying that when we study the time-derivative\n",
    "$\\partial\\langle x(t)\\rangle/\\partial t$, we obtain after integration by parts and using \n",
    "Eq. ([eq:diffequation1](#eq:diffequation1))"
   ]
  },
  {
   "cell_type": "markdown",
   "metadata": {},
   "source": [
    "$$\n",
    "\\frac{\\partial \\langle x\\rangle}{\\partial t} = \n",
    "   \\int_{-\\infty}^{\\infty}x\\frac{\\partial w(x,t)}{\\partial t}dx=\n",
    "   D\\int_{-\\infty}^{\\infty}x\\frac{\\partial^2w(x,t)}{\\partial x^2}dx,\n",
    "$$"
   ]
  },
  {
   "cell_type": "markdown",
   "metadata": {},
   "source": [
    "leading to"
   ]
  },
  {
   "cell_type": "markdown",
   "metadata": {},
   "source": [
    "$$\n",
    "\\frac{\\partial \\langle x\\rangle}{\\partial t} = \n",
    "   Dx\\frac{\\partial w(x,t)}{\\partial x}|_{x=\\pm\\infty}-\n",
    "   D\\int_{-\\infty}^{\\infty}\\frac{\\partial w(x,t)}{\\partial x}dx.\n",
    "$$"
   ]
  },
  {
   "cell_type": "markdown",
   "metadata": {},
   "source": [
    "## Diffusion Equation\n",
    "The result is"
   ]
  },
  {
   "cell_type": "markdown",
   "metadata": {},
   "source": [
    "$$\n",
    "\\frac{\\partial \\langle x\\rangle}{\\partial t} = 0.\n",
    "$$"
   ]
  },
  {
   "cell_type": "markdown",
   "metadata": {},
   "source": [
    "This means in turn that $\\langle x\\rangle$ is independent of time.\n",
    "If we choose the initial position $x(t=0)=0$,\n",
    "the average displacement $\\langle x\\rangle= 0$.\n",
    "If we link this discussion to a random walk in one dimension with equal probability\n",
    "of jumping to the left or right and with an initial position $x=0$, then our probability\n",
    "distribution remains centered around $\\langle x\\rangle= 0$ as function of time.\n",
    "\n",
    "\n",
    "\n",
    "## Diffusion Equation, the variance\n",
    "\n",
    "The variance is not necessarily 0. Consider first"
   ]
  },
  {
   "cell_type": "markdown",
   "metadata": {},
   "source": [
    "$$\n",
    "\\frac{\\partial \\langle x^2\\rangle}{\\partial t} = \n",
    "   Dx^2\\frac{\\partial w(x,t)}{\\partial x}|_{x=\\pm\\infty}-\n",
    "   2D\\int_{-\\infty}^{\\infty}x\\frac{\\partial w(x,t)}{\\partial x}dx,\n",
    "$$"
   ]
  },
  {
   "cell_type": "markdown",
   "metadata": {},
   "source": [
    "where we have performed an integration by parts as we did \n",
    "for $\\frac{\\partial \\langle x\\rangle}{\\partial t}$.\n",
    "\n",
    "\n",
    "\n",
    "\n",
    "## Diffusion Equation, final expression for the variance\n",
    "\n",
    "Integration by parts \n",
    "results in"
   ]
  },
  {
   "cell_type": "markdown",
   "metadata": {},
   "source": [
    "$$\n",
    "\\frac{\\partial \\langle x^2\\rangle}{\\partial t} = \n",
    "   -Dxw(x,t)|_{x=\\pm\\infty}+\n",
    "   2D\\int_{-\\infty}^{\\infty}w(x,t)dx=2D,\n",
    "$$"
   ]
  },
  {
   "cell_type": "markdown",
   "metadata": {},
   "source": [
    "leading to"
   ]
  },
  {
   "cell_type": "markdown",
   "metadata": {},
   "source": [
    "$$\n",
    "\\langle x^2\\rangle = 2Dt,\n",
    "$$"
   ]
  },
  {
   "cell_type": "markdown",
   "metadata": {},
   "source": [
    "and the variance as"
   ]
  },
  {
   "cell_type": "markdown",
   "metadata": {},
   "source": [
    "<!-- Equation labels as ordinary links -->\n",
    "<div id=\"eq:variancediffeq\"></div>\n",
    "\n",
    "$$\n",
    "\\begin{equation} \\label{eq:variancediffeq} \\tag{6}\n",
    "   \\langle x^2\\rangle-\\langle x\\rangle^2 = 2Dt.\n",
    "\\end{equation}\n",
    "$$"
   ]
  },
  {
   "cell_type": "markdown",
   "metadata": {},
   "source": [
    "The root mean square displacement after a time $t$ is then"
   ]
  },
  {
   "cell_type": "markdown",
   "metadata": {},
   "source": [
    "$$\n",
    "\\sqrt{\\langle x^2\\rangle-\\langle x\\rangle^2} = \\sqrt{2Dt}.\n",
    "$$"
   ]
  },
  {
   "cell_type": "markdown",
   "metadata": {},
   "source": [
    "## Diffusion Equation, interpretation\n",
    "\n",
    "This should be contrasted to the displacement of a free particle with initial velocity\n",
    "$v_0$. In that case the distance from the initial position after a time $t$ is\n",
    "$x(t) = vt$ whereas for a diffusion process the root mean square value is \n",
    "$\\sqrt{\\langle x^2\\rangle-\\langle x\\rangle^2} \\propto \\sqrt{t}$.\n",
    "Since diffusion is strongly linked with random walks, we could say that a random walker\n",
    "escapes much more slowly from the starting point than would a free particle.\n",
    "\n",
    "\n",
    "\n",
    "## Diffusion Equation, simple illustration"
   ]
  },
  {
   "cell_type": "markdown",
   "metadata": {},
   "source": [
    "$$\n",
    "w(x,t)dx = \\frac{1}{\\sqrt{4\\pi Dt}}\\exp{(-\\frac{x^2}{4Dt})}dx.\n",
    "$$"
   ]
  },
  {
   "cell_type": "markdown",
   "metadata": {},
   "source": [
    "At a time $t=2$s the new variance is $\\sigma^2=4D$s, implying that the root mean square value\n",
    "is $\\sqrt{\\langle x^2\\rangle-\\langle x\\rangle^2} = 2\\sqrt{D}$.\n",
    "At a further time $t=8$ we have $\\sqrt{\\langle x^2\\rangle-\\langle x\\rangle^2} = 4\\sqrt{D}$.\n",
    "While time has elapsed by a factor of $4$, the root mean square has only changed by a factor\n",
    "of 2.\n",
    "\n",
    "\n",
    "\n",
    "## Random Walks\n",
    "Consider"
   ]
  },
  {
   "cell_type": "markdown",
   "metadata": {},
   "source": [
    "$$\n",
    "\\langle x(n)\\rangle = \\sum_{i}^{n} \\Delta x_i = 0 \\hspace{1cm} \\Delta x_i=\\pm l,\n",
    "$$"
   ]
  },
  {
   "cell_type": "markdown",
   "metadata": {},
   "source": [
    "since we have an equal probability of jumping either to the left or to right.\n",
    "The value of $\\langle x(n)^2\\rangle$ is"
   ]
  },
  {
   "cell_type": "markdown",
   "metadata": {},
   "source": [
    "$$\n",
    "\\langle x(n)^2\\rangle = \\left(\\sum_{i}^{n} \\Delta x_i\\right)\\left(\\sum_{j}^{n} \\Delta x_j\\right)=\\sum_{i}^{n} \\Delta x_i^2+\n",
    "\\sum_{i\\ne j}^{n} \\Delta x_i\\Delta x_j=l^2n.\n",
    "$$"
   ]
  },
  {
   "cell_type": "markdown",
   "metadata": {},
   "source": [
    "## Random Walks\n",
    "For many enough steps the non-diagonal contribution is"
   ]
  },
  {
   "cell_type": "markdown",
   "metadata": {},
   "source": [
    "$$\n",
    "\\sum_{i\\ne j}^{N} \\Delta x_i\\Delta x_j=0,\n",
    "$$"
   ]
  },
  {
   "cell_type": "markdown",
   "metadata": {},
   "source": [
    "since $\\Delta x_{i,j} = \\pm l$.\n",
    "The variance is then"
   ]
  },
  {
   "cell_type": "markdown",
   "metadata": {},
   "source": [
    "<!-- Equation labels as ordinary links -->\n",
    "<div id=\"eq:rwvariance\"></div>\n",
    "\n",
    "$$\n",
    "\\begin{equation}\n",
    "   \\langle x(n)^2\\rangle - \\langle x(n)\\rangle^2 = l^2n.\n",
    "\\label{eq:rwvariance} \\tag{7}\n",
    "\\end{equation}\n",
    "$$"
   ]
  },
  {
   "cell_type": "markdown",
   "metadata": {},
   "source": [
    "It is also rather straightforward to compute the variance for $L\\ne R$. The result is"
   ]
  },
  {
   "cell_type": "markdown",
   "metadata": {},
   "source": [
    "$$\n",
    "\\langle x(n)^2\\rangle - \\langle x(n)\\rangle^2 = 4LRl^2n.\n",
    "$$"
   ]
  },
  {
   "cell_type": "markdown",
   "metadata": {},
   "source": [
    "## Random Walks\n",
    "In Eq. ([eq:rwvariance](#eq:rwvariance)) the variable $n$ represents the number of time\n",
    "steps. If we define $n=t/\\Delta t$, we can then couple the variance result \n",
    "from a random walk\n",
    "in one dimension with the variance  from the diffusion equation of Eq. ([eq:variancediffeq](#eq:variancediffeq))\n",
    "by defining the diffusion constant as"
   ]
  },
  {
   "cell_type": "markdown",
   "metadata": {},
   "source": [
    "$$\n",
    "D = \\frac{l^2}{\\Delta t}.\n",
    "$$"
   ]
  },
  {
   "cell_type": "markdown",
   "metadata": {},
   "source": [
    "## Random Walks, simple program\n",
    "The main program reads the name of the output file from screen and sets up the arrays\n",
    "containing the walker's position after a given number of steps. The corresponding program for a two-dimensional\n",
    "random walk (not listed in the main text) is found under programs/chapter12/program2.cpp"
   ]
  },
  {
   "cell_type": "markdown",
   "metadata": {},
   "source": [
    "        /*\n",
    "          1-dim random walk program. \n",
    "          A walker makes several trials steps with\n",
    "          a given number of walks per trial\n",
    "        */\n",
    "        #include <iostream>\n",
    "        #include <fstream>\n",
    "        #include <iomanip>\n",
    "        #include \"lib.h\"\n",
    "        using namespace  std;\n",
    "        \n",
    "        // Function to read in data from screen, note call by reference\n",
    "        void initialise(int&, int&, double&) ;\n",
    "        // The Mc sampling for random walks\n",
    "        void  mc_sampling(int, int, double, int *, int *);\n",
    "        // prints to screen the results of the calculations \n",
    "        void  output(int, int, int *, int *);\n",
    "        \n",
    "        int main()\n",
    "        {\n",
    "          int max_trials, number_walks; \n",
    "          double move_probability;\n",
    "          // Read in data \n",
    "          initialise(max_trials, number_walks, move_probability) ;\n",
    "          int *walk_cumulative = new int [number_walks+1];\n",
    "          int *walk2_cumulative = new int [number_walks+1];\n",
    "          for (int walks = 1; walks <= number_walks; walks++){   \n",
    "            walk_cumulative[walks] = walk2_cumulative[walks] = 0;\n",
    "          } // end initialization of vectors\n",
    "          // Do the mc sampling  \n",
    "          mc_sampling(max_trials, number_walks, move_probability, \n",
    "                      walk_cumulative, walk2_cumulative);\n",
    "          // Print out results \n",
    "          output(max_trials, number_walks, walk_cumulative, \n",
    "                 walk2_cumulative);\n",
    "          delete [] walk_cumulative; // free memory\n",
    "          delete [] walk2_cumulative; \n",
    "          return 0; \n",
    "        } // end main function\n",
    "        \\end{lstlisting}\n",
    "        The  input and output functions are \n",
    "        \\begin{lstlisting} \n",
    "        void initialise(int& max_trials, int& number_walks, double& move_probability) \n",
    "        {\n",
    "          cout << \"Number of Monte Carlo trials =\"; \n",
    "          cin >> max_trials;\n",
    "          cout << \"Number of attempted walks=\";\n",
    "          cin >> number_walks;\n",
    "          cout << \"Move probability=\";\n",
    "          cin >> move_probability;\n",
    "        }  // end of function initialise   \n"
   ]
  },
  {
   "cell_type": "markdown",
   "metadata": {},
   "source": [
    "<!-- !split  -->\n",
    "## Random walk\n",
    "The algorithm tests the probability \n",
    "of moving to the left or to the right by generating a random number."
   ]
  },
  {
   "cell_type": "markdown",
   "metadata": {},
   "source": [
    "        void mc_sampling(int max_trials, int number_walks, \n",
    "                         double move_probability, int *walk_cumulative, \n",
    "                         int *walk2_cumulative)\n",
    "        {\n",
    "          long idum;\n",
    "          idum=-1;  // initialise random number generator\n",
    "          for (int trial=1; trial <= max_trials; trial++){\n",
    "            int position = 0;\n",
    "            for (int walks = 1; walks <= number_walks; walks++){   \n",
    "              if (ran0(&idum) <= move_probability) {\n",
    "        \tposition += 1;\n",
    "              } \n",
    "              else {\n",
    "        \tposition -= 1;\n",
    "              }\n",
    "              walk_cumulative[walks] += position;\n",
    "              walk2_cumulative[walks] += position*position;\n",
    "            }  // end of loop over walks\n",
    "          } // end of loop over trials\n",
    "        }   // end mc_sampling function  \n"
   ]
  },
  {
   "cell_type": "markdown",
   "metadata": {},
   "source": [
    "<!-- !split  -->\n",
    "## Simple python code with visualization of one-dimensional random walk\n",
    "The python code here is just a mere rewriting of the above c++ code, with the difference that \n",
    "it employs matplotlib and gives the final plot."
   ]
  },
  {
   "cell_type": "code",
   "execution_count": 3,
   "metadata": {
    "collapsed": false
   },
   "outputs": [],
   "source": [
    "#\n",
    "# 1D-randomwalk: A walker makes several steps,\n",
    "# with a given number of walks pr. trial\n",
    "#\n",
    "import numpy, sys\n",
    "from  matplotlib import pyplot as plt\n",
    "import numpy as np\n",
    "\n",
    "\n",
    "def mc_trial(number_walks,move_probability,walk_cum,walk2_cum):\n",
    "    \"\"\"\n",
    "    Do a MonteCarlo trial, that is,\n",
    "    random-walk one particle.\n",
    "\n",
    "    Input:\n",
    "    - number_walks:     Number of steps to walk the particle\n",
    "    - move_probability: Probability that the particle\n",
    "                        will step right when doing a step\n",
    "    - walk_cum:         Numpy-array of length number_walks + 1,\n",
    "                        containing the sum of the position\n",
    "                        of the particles as a function of time\n",
    "                        (usefull to calculate mean pos. as a function\n",
    "                        of time)\n",
    "    - walk2_cum:        Same as walk_cum, but with the sum of the\n",
    "                        positions squared\n",
    "\n",
    "    Output: As walk_cum and walk2_cum are numpy arrays, they are altered.\n",
    "    \"\"\"\n",
    "    #Initial pos. As walk_cum[0]=walk2_cum[0] = 0.0\n",
    "    #by initialization, it is uneccessary to add this step to\n",
    "    #the arrays...\n",
    "    pos = 0;\n",
    "    \n",
    "    for walk in xrange(number_walks+1):\n",
    "        if numpy.random.random() <= move_probability:\n",
    "            pos += 1\n",
    "        else:\n",
    "            pos -= 1\n",
    "        walk_cum[walk]  += pos\n",
    "        walk2_cum[walk] += pos**2\n",
    "\n",
    "def mc_sample(trials, number_walks, move_probability):\n",
    "    \"\"\"\n",
    "    Run as many trials as asked for by input variable trials.\n",
    "    Wrapper to mc_trial, split out for easier paralellization\n",
    "\n",
    "    Output: NumPy arrays walk_cum and walk2_cum, length number_walks + 1\n",
    "    \"\"\"\n",
    "\n",
    "    walk_cum  = numpy.zeros(number_walks+1)\n",
    "    walk2_cum = numpy.zeros(number_walks+1)\n",
    "    for trial in xrange(trials):\n",
    "        mc_trial(number_walks,move_probability,walk_cum,walk2_cum)\n",
    "\n",
    "    return (walk_cum,walk2_cum)\n",
    "\n",
    "#Main program\n",
    "\n",
    "# initialize, values can easily be changed\n",
    "trials           =   10000\n",
    "number_walks     =   100\n",
    "move_probability = 0.5\n",
    "\n",
    "#Do the MC\n",
    "(walk_cum,walk2_cum) = mc_sample(trials,number_walks, move_probability);\n",
    "Dim = len(walk_cum)\n",
    "x = np.zeros(Dim)\n",
    "xaverage = np.zeros(Dim)\n",
    "variance = np.zeros(Dim)\n",
    "#Output\n",
    "for i in xrange(Dim):\n",
    "    x[i] = i\n",
    "    #Normalize to number of trials (= number of walkers)\n",
    "    xaverage[i]  = walk_cum[i]/float(trials)\n",
    "    x2average = walk2_cum[i]/float(trials)\n",
    "    variance[i] = x2average - xaverage[i]**2\n",
    "plt.figure(1)\n",
    "plt.subplot(211)\n",
    "plt.xlabel(r'Steps')\n",
    "plt.ylabel(r'Average displacement  $\\Delta x$')\n",
    "plt.plot(x, xaverage, 'b-')\n",
    "plt.subplot(212)\n",
    "plt.plot(x, variance, 'r-')\n",
    "plt.ylabel(r'Variance  $\\langle\\Delta x)^2\\rangle-\\langle x\\rangle^2$')\n",
    "plt.savefig('rw.pdf')\n",
    "plt.show()"
   ]
  }
 ],
 "metadata": {
  "kernelspec": {
   "display_name": "Python 3",
   "language": "python",
   "name": "python3"
  },
  "language_info": {
   "codemirror_mode": {
    "name": "ipython",
    "version": 3
   },
   "file_extension": ".py",
   "mimetype": "text/x-python",
   "name": "python",
   "nbconvert_exporter": "python",
   "pygments_lexer": "ipython3",
   "version": "3.6.3"
  }
 },
 "nbformat": 4,
 "nbformat_minor": 0
}
